{
 "cells": [
  {
   "cell_type": "code",
   "execution_count": 2,
   "metadata": {},
   "outputs": [],
   "source": [
    "# Cell 1: Importing necessary libraries\n",
    "import pandas as pd\n",
    "import re\n",
    "import numpy as np\n",
    "import matplotlib.pyplot as plt\n",
    "import seaborn as sns\n",
    "from sklearn.model_selection import train_test_split, cross_val_score\n",
    "from sklearn.feature_extraction.text import TfidfVectorizer\n",
    "from sklearn.linear_model import LogisticRegression\n",
    "from sklearn.metrics import accuracy_score, confusion_matrix, classification_report\n",
    "from imblearn.over_sampling import SMOTE\n",
    "# from hyperopt import hp, tpe, Trials, fmin, space_eval\n",
    "# from vowpalwabbit.sklearn_vw import VWClassifier\n"
   ]
  },
  {
   "cell_type": "code",
   "execution_count": 3,
   "metadata": {},
   "outputs": [],
   "source": [
    "# Cell 2: Loading the dataset\n",
    "df = pd.read_csv(\"ceas.csv\", dtype=str)\n"
   ]
  },
  {
   "cell_type": "code",
   "execution_count": 4,
   "metadata": {},
   "outputs": [],
   "source": [
    "# Cell 3: Dropping rows with null values and converting columns to strings\n",
    "df.dropna(subset=['sender', 'receiver', 'date', 'subject', 'body'], inplace=True)\n",
    "df = df.astype(str)\n"
   ]
  },
  {
   "cell_type": "code",
   "execution_count": 5,
   "metadata": {},
   "outputs": [],
   "source": [
    "# Cell 5: Removing rows where 'urls' or 'labels' columns contain values other than 0 or 1\n",
    "df = df[(df['urls'].isin(['0', '1'])) & (df['label'].isin(['0', '1']))]\n"
   ]
  },
  {
   "cell_type": "code",
   "execution_count": 6,
   "metadata": {},
   "outputs": [],
   "source": [
    "# Cell 6: Converting 'urls' and 'labels' columns to integers\n",
    "df['urls'] = df['urls'].astype(int)\n",
    "df['label'] = df['label'].astype(int)\n"
   ]
  },
  {
   "cell_type": "code",
   "execution_count": 7,
   "metadata": {},
   "outputs": [],
   "source": [
    "# Cell 7: Resetting the index after dropping rows\n",
    "df.reset_index(drop=True, inplace=True)\n"
   ]
  },
  {
   "cell_type": "code",
   "execution_count": 8,
   "metadata": {},
   "outputs": [],
   "source": [
    "# Cell 8: Defining patterns to extract email parts\n",
    "email_pattern = re.compile(r\"Email> \\((.*?)\\)\")\n",
    "date_pattern = re.compile(r\"Date> (.*?)$\")\n",
    "subject_pattern = re.compile(r\"Subject> (.*)$\")\n",
    "body_pattern = re.compile(r\"([\\s\\S]*)\")\n"
   ]
  },
  {
   "cell_type": "code",
   "execution_count": 9,
   "metadata": {},
   "outputs": [
    {
     "name": "stdout",
     "output_type": "stream",
     "text": [
      "                                                  sender  \\\n",
      "0                       Young Esposito <Young@iworld.de>   \n",
      "1      Daily Top 10 <Karmandeep-opengevl@universalnet...   \n",
      "2                     Michael Parker <ivqrnai@pobox.com>   \n",
      "3      Gretchen Suggs <externalsep1@loanofficertool.com>   \n",
      "4      Caroline Aragon <dwthaidomainnamesm@thaidomain...   \n",
      "...                                                  ...   \n",
      "31437    CNN Alerts <charlene-detecton@btcmarketing.com>   \n",
      "31438           CNN Alerts <idgetily1971@careplusnj.org>   \n",
      "31439                   Abhijit Vyas <xpojhbz@gmail.com>   \n",
      "31440              Joseph Brennan <vupzesm@columbia.edu>   \n",
      "31441                Christian Heimes <wluhe@cheimes.de>   \n",
      "\n",
      "                                             receiver  \\\n",
      "0                         user4@gvc.ceas-challenge.cc   \n",
      "1                       user2.9@gvc.ceas-challenge.cc   \n",
      "2      SpamAssassin Dev <xrh@spamassassin.apache.org>   \n",
      "3                       user2.2@gvc.ceas-challenge.cc   \n",
      "4                    user7-ext5@gvc.ceas-challenge.cc   \n",
      "...                                               ...   \n",
      "31437                 email1007@gvc.ceas-challenge.cc   \n",
      "31438                  email104@gvc.ceas-challenge.cc   \n",
      "31439                        fxgmqwjn@triptracker.net   \n",
      "31440                   zqoqi@spamassassin.apache.org   \n",
      "31441              Python Dev <zvllln-eum@python.org>   \n",
      "\n",
      "                                  date  \\\n",
      "0      Tue, 05 Aug 2008 16:31:02 -0700   \n",
      "1      Tue, 05 Aug 2008 20:28:00 -1200   \n",
      "2      Tue, 05 Aug 2008 17:31:20 -0600   \n",
      "3      Tue, 05 Aug 2008 19:31:21 -0400   \n",
      "4      Wed, 06 Aug 2008 05:31:22 +0600   \n",
      "...                                ...   \n",
      "31437  Fri, 08 Aug 2008 10:34:50 -0400   \n",
      "31438  Fri, 08 Aug 2008 10:35:11 -0400   \n",
      "31439  Fri, 08 Aug 2008 22:00:43 +0800   \n",
      "31440  Fri, 08 Aug 2008 09:00:46 -0500   \n",
      "31441  Fri, 08 Aug 2008 16:00:18 +0200   \n",
      "\n",
      "                                                 subject  \\\n",
      "0                              Never agree to be a loser   \n",
      "1                                   CNN.com Daily Top 10   \n",
      "2      Re: svn commit: r619753 - in /spamassassin/tru...   \n",
      "3                             SpecialPricesPharmMoreinfo   \n",
      "4                                   From Caroline Aragon   \n",
      "...                                                  ...   \n",
      "31437                        CNN Alerts: My Custom Alert   \n",
      "31438                        CNN Alerts: My Custom Alert   \n",
      "31439                                   Slideshow viewer   \n",
      "31440                              Note on 2-digit years   \n",
      "31441                      [Python-Dev] PEP 370 heads up   \n",
      "\n",
      "                                                    body  label  urls  \n",
      "0      Buck up, your troubles caused by small dimensi...      1     1  \n",
      "1      >+=+=+=+=+=+=+=+=+=+=+=+=+=+=+=+=+=+=+=+=+=+=+...      1     1  \n",
      "2      Would anyone object to removing .so from this ...      0     1  \n",
      "3      \\nWelcomeFastShippingCustomerSupport\\nhttp://7...      1     1  \n",
      "4      \\n\\n\\n\\n\\nYo wu urS mo ou go rc ebo eForM rgi ...      1     0  \n",
      "...                                                  ...    ...   ...  \n",
      "31437  \\n\\nCNN Alerts: My Custom Alert\\n\\n\\n\\n\\n\\n\\n ...      1     0  \n",
      "31438  \\n\\nCNN Alerts: My Custom Alert\\n\\n\\n\\n\\n\\n\\n ...      1     0  \n",
      "31439  Hello there ! \\nGreat work on the slide show v...      0     0  \n",
      "31440  \\nMail from sender , coming from intuit.com\\ns...      0     0  \n",
      "31441  Dear fellow Pythonistas!\\n\\nGuido has accepted...      0     1  \n",
      "\n",
      "[31442 rows x 7 columns]\n"
     ]
    }
   ],
   "source": [
    "# Define the pattern for the sender value\n",
    "pattern = r'^[\\w\\s]+ <[\\w.-]+@[\\w.-]+>$'\n",
    "\n",
    "# Filter the DataFrame based on the pattern\n",
    "df = df[df['sender'].str.match(pattern)]\n",
    "\n",
    "# Drop columns with the name \"Unnamed\" and any NaN values\n",
    "df = df.dropna(axis=1, how='all')\n",
    "df = df.loc[:, ~df.columns.str.contains('^Unnamed')]\n",
    "\n",
    "# Reset the index after dropping columns\n",
    "df.reset_index(drop=True, inplace=True)\n",
    "\n",
    "# Display the DataFrame\n",
    "print(df)\n",
    "\n",
    "# Save the filtered dataset\n",
    "df.to_csv(\"filtered_ceas.csv\", index=False)\n",
    "\n"
   ]
  },
  {
   "cell_type": "code",
   "execution_count": 12,
   "metadata": {},
   "outputs": [
    {
     "data": {
      "image/png": "[encoded data removed]",
      "text/plain": [
       "<Figure size 640x480 with 1 Axes>"
      ]
     },
     "metadata": {},
     "output_type": "display_data"
    }
   ],
   "source": [
    "\n",
    "index = df['label'].value_counts().index\n",
    "values = df['label'].value_counts().values\n",
    "plt.bar(index,values,color=['blue','red'])\n",
    "plt.title(\"Categorical Distribution\")\n",
    "plt.xlabel(\"Category\")\n",
    "plt.ylabel(\"Count\")\n",
    "plt.show()"
   ]
  }
 ],
 "metadata": {
  "kernelspec": {
   "display_name": "Python 3",
   "language": "python",
   "name": "python3"
  },
  "language_info": {
   "codemirror_mode": {
    "name": "ipython",
    "version": 3
   },
   "file_extension": ".py",
   "mimetype": "text/x-python",
   "name": "python",
   "nbconvert_exporter": "python",
   "pygments_lexer": "ipython3",
   "version": "3.12.3"
  }
 },
 "nbformat": 4,
 "nbformat_minor": 2
}
